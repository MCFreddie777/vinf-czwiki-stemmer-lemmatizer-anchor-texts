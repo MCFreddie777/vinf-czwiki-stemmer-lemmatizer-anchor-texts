{
 "cells": [
  {
   "cell_type": "code",
   "execution_count": 1,
   "metadata": {
    "pycharm": {
     "name": "#%%\n"
    }
   },
   "outputs": [],
   "source": [
    "import nltk\n",
    "import pandas as pd\n",
    "import numpy as np\n",
    "from parser import parse_xml_file\n",
    "from stop_words import get_stop_words\n",
    "from string_helper import replace_string_with_pattern, clear_empty_string, decode_html_chars\n",
    "import majka\n"
   ]
  },
  {
   "cell_type": "code",
   "execution_count": 2,
   "metadata": {
    "pycharm": {
     "name": "#%%\n"
    }
   },
   "outputs": [],
   "source": [
    "# configuration\n",
    "DEBUG = True\n",
    "\n",
    "try:\n",
    "    nltk.data.find('tokenizers/punkt')\n",
    "except LookupError:\n",
    "    nltk.download('punkt')\n",
    "\n",
    "stop_words = get_stop_words('cz')\n",
    "\n",
    "morph = majka.Majka('../wordlists/majka.w-lt')\n",
    "morph.flags |= majka.ADD_DIACRITICS  # find word forms with diacritics\n",
    "morph.flags |= majka.DISALLOW_LOWERCASE  # do not enable to find lowercase variants\n",
    "morph.flags |= majka.IGNORE_CASE  # ignore the word case whatsoever\n",
    "morph.flags = 0  # unset all flags\n",
    "morph.tags = False  # return just the lemma, do not process the tags\n",
    "morph.first_only = True  # return only the first entry"
   ]
  },
  {
   "cell_type": "code",
   "execution_count": 3,
   "metadata": {
    "pycharm": {
     "name": "#%%\n"
    }
   },
   "outputs": [],
   "source": [
    "# load file paths\n",
    "\n",
    "xml_file_path = '../data/test.xml' if DEBUG else '../data/cswiki-latest-pages-articles.xml'\n",
    "csv_file_path = '../data/parsed_output.csv'"
   ]
  },
  {
   "cell_type": "code",
   "execution_count": 4,
   "metadata": {
    "pycharm": {
     "name": "#%%\n"
    }
   },
   "outputs": [],
   "source": [
    "parse_xml_file(xml_file_path, csv_file_path)"
   ]
  },
  {
   "cell_type": "code",
   "execution_count": 5,
   "metadata": {
    "pycharm": {
     "name": "#%%\n"
    }
   },
   "outputs": [],
   "source": [
    "def clear_data(dataframe):\n",
    "    for col in dataframe:\n",
    "        dataframe[col] = dataframe[col]\\\n",
    "        .apply(lambda x: x if x is not np.NaN else None) \\\n",
    "        .apply(replace_string_with_pattern,pattern=r\"[\\\\/:.,\\-_#() ]+|{.*}\",replace_with=' ') \\\n",
    "        .apply(replace_string_with_pattern,pattern=r\"&amp;\",replace_with='&') \\\n",
    "        .apply(decode_html_chars) \\\n",
    "        .apply(clear_empty_string)\n",
    "\n",
    "    return dataframe"
   ]
  },
  {
   "cell_type": "code",
   "execution_count": 6,
   "metadata": {
    "pycharm": {
     "name": "#%%\n"
    }
   },
   "outputs": [],
   "source": [
    "def tokenize(dataframe):\n",
    "    for col in dataframe:\n",
    "        dataframe[col] = dataframe[col]\\\n",
    "            .apply(lambda data: nltk.tokenize.word_tokenize(data) if data is not None else [])\\\n",
    "            .apply(lambda tokens: [token for token in tokens if not token in stop_words])\n",
    "    return dataframe"
   ]
  },
  {
   "cell_type": "code",
   "execution_count": 7,
   "metadata": {
    "pycharm": {
     "name": "#%%\n"
    }
   },
   "outputs": [],
   "source": [
    "def lemmatize(dataframe):\n",
    "    for col in dataframe:\n",
    "        dataframe[col] = dataframe[col]\\\n",
    "            .apply(lambda tokens: [morphed_token[0]['lemma'] for token in tokens if (morphed_token := morph.find(token))])\n",
    "    return dataframe"
   ]
  },
  {
   "cell_type": "code",
   "execution_count": 8,
   "metadata": {
    "pycharm": {
     "name": "#%%\n"
    }
   },
   "outputs": [],
   "source": [
    "# TODO: Uncomment reading by chunks\n",
    "# for chunk in pd.read_csv(csv_file_path,sep=\",\",header=None,chunksize=50):\n",
    "#     chunk = clear_data(chunk)\n",
    "#     chunk = tokenize(chunk)\n",
    "#     chunk = lemmatize(chunk)"
   ]
  },
  {
   "cell_type": "code",
   "execution_count": 9,
   "metadata": {
    "pycharm": {
     "name": "#%%\n"
    }
   },
   "outputs": [],
   "source": [
    "# TODO: Remove reading into memory\n",
    "df = pd.read_csv(csv_file_path,sep=\",\",header=None)\n",
    "df = clear_data(df)\n",
    "df = tokenize(df)\n",
    "df = lemmatize(df)"
   ]
  }
 ],
 "metadata": {
  "kernelspec": {
   "display_name": "Python 3",
   "language": "python",
   "name": "python3"
  },
  "language_info": {
   "codemirror_mode": {
    "name": "ipython",
    "version": 3
   },
   "file_extension": ".py",
   "mimetype": "text/x-python",
   "name": "python",
   "nbconvert_exporter": "python",
   "pygments_lexer": "ipython3",
   "version": "3.8.5"
  }
 },
 "nbformat": 4,
 "nbformat_minor": 1
}