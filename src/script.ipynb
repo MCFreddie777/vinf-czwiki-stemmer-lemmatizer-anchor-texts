{
 "cells": [
  {
   "cell_type": "code",
   "execution_count": 1,
   "metadata": {
    "pycharm": {
     "name": "#%%\n"
    }
   },
   "outputs": [],
   "source": [
    "import nltk\n",
    "import pandas as pd\n",
    "import numpy as np\n",
    "import os\n",
    "import majka\n",
    "from ast import literal_eval\n",
    "import seaborn as sns\n",
    "import matplotlib.pyplot as plt\n",
    "import scipy.stats as stats\n",
    "from tabletext import to_text\n",
    "\n",
    "from parser import parse_xml_file\n",
    "from stop_words import get_stop_words\n",
    "from string_helper import replace_string_with_pattern, clear_empty_string, decode_html_chars"
   ]
  },
  {
   "cell_type": "code",
   "execution_count": 2,
   "metadata": {
    "pycharm": {
     "name": "#%%\n"
    }
   },
   "outputs": [],
   "source": [
    "# Configuration\n",
    "DEBUG = False\n",
    "\n",
    "if (DEBUG):\n",
    "    pd.set_option('display.max_rows', 500)\n",
    "    pd.set_option('display.width', 1000)\n",
    "\n",
    "try:\n",
    "    nltk.data.find('tokenizers/punkt')\n",
    "except LookupError:\n",
    "    nltk.download('punkt')\n",
    "\n",
    "# Stopwords\n",
    "stop_words = get_stop_words('cz')\n",
    "# Extended with custom (those are missing from official stop_words package)\n",
    "stop_words.extend(['a','v','vo','na','k','u','i','zo','z','so','s',])\n",
    "\n",
    "# Czech lemmatizer Majka\n",
    "morph = majka.Majka('../wordlists/majka.w-lt')\n",
    "morph.flags |= majka.ADD_DIACRITICS  # Find word forms with diacritics\n",
    "morph.flags |= majka.DISALLOW_LOWERCASE  # Do not enable to find lowercase variants\n",
    "morph.flags |= majka.IGNORE_CASE  # Ignore the word case whatsoever\n",
    "morph.flags = 0  # Unset all flags\n",
    "morph.tags = False  # Return just the lemma\n",
    "morph.first_only = True  # Return only the first entry\n",
    "\n",
    "# Histogram of unlemmatizable words\n",
    "unlemmatizable_tokens_histogram = {}\n",
    "# Treshold of occurrences of unlemmatizable tokens, below which the tokens won't be added to the result\n",
    "unlemmatizable_tokens_threshold = 2"
   ]
  },
  {
   "cell_type": "code",
   "execution_count": 3,
   "metadata": {},
   "outputs": [],
   "source": [
    "# Load file paths\n",
    "xml_file_path = '../data/test.xml' if DEBUG else '../data/cswiki-latest-pages-articles.xml'\n",
    "parsed_file_path = '../data/out-parsed.csv'\n",
    "tokenized_file_path = '../data/out-tokenized.csv'\n",
    "lemmatized_file_path = '../data/out-lemmatized.csv'"
   ]
  },
  {
   "cell_type": "code",
   "execution_count": 4,
   "metadata": {},
   "outputs": [],
   "source": [
    "# Remove files if exists (because we'll append to them)\n",
    "for filePath in [parsed_file_path,tokenized_file_path,lemmatized_file_path]:\n",
    "    if os.path.exists(filePath):\n",
    "        os.remove(filePath)"
   ]
  },
  {
   "cell_type": "markdown",
   "metadata": {},
   "source": [
    "# Parsing, Stemming and Lemmatizing"
   ]
  },
  {
   "cell_type": "code",
   "execution_count": 5,
   "metadata": {
    "pycharm": {
     "name": "#%%\n"
    }
   },
   "outputs": [],
   "source": [
    "# Parse input file line by line \n",
    "parse_xml_file(xml_file_path, parsed_file_path)"
   ]
  },
  {
   "cell_type": "code",
   "execution_count": 6,
   "metadata": {
    "pycharm": {
     "name": "#%%\n"
    }
   },
   "outputs": [],
   "source": [
    "def clear_data(dataframe):\n",
    "    for col in dataframe:\n",
    "        dataframe[col] = dataframe[col]\\\n",
    "        .apply(lambda x: x if x is not np.NaN else None) \\\n",
    "        .apply(replace_string_with_pattern,pattern=r\"[\\\\/:.,\\-_#()?“„ ]+|{.*}\",replace_with=' ') \\\n",
    "        .apply(replace_string_with_pattern,pattern=r\"&amp;\",replace_with='&') \\\n",
    "        .apply(decode_html_chars) \\\n",
    "        .apply(lambda x: str(x) if isinstance(x, int) or isinstance(x,float) else x) \\\n",
    "        .apply(clear_empty_string)\n",
    "\n",
    "    return dataframe"
   ]
  },
  {
   "cell_type": "code",
   "execution_count": 7,
   "metadata": {
    "pycharm": {
     "name": "#%%\n"
    }
   },
   "outputs": [],
   "source": [
    "def tokenize(dataframe):\n",
    "    for col in dataframe:\n",
    "        dataframe[col] = dataframe[col]\\\n",
    "            .apply(lambda data: nltk.tokenize.word_tokenize(data) if data is not None or not np.nan else [])\\\n",
    "            .apply(lambda tokens: [token.lower() for token in tokens if not token in stop_words])\n",
    "    return dataframe"
   ]
  },
  {
   "cell_type": "code",
   "execution_count": 8,
   "metadata": {
    "pycharm": {
     "name": "#%%\n"
    }
   },
   "outputs": [],
   "source": [
    "def add_unlemmatizable_words(dataframe,histogram):\n",
    "    for col in dataframe:\n",
    "        for row in dataframe[col]:\n",
    "            for word in row:\n",
    "                if not (morph.find(word)):\n",
    "                    histogram[word] = histogram[word] + 1 if word in histogram else 1"
   ]
  },
  {
   "cell_type": "code",
   "execution_count": 9,
   "metadata": {
    "pycharm": {
     "name": "#%%\n"
    }
   },
   "outputs": [],
   "source": [
    "def lemmatize(dataframe):\n",
    "    for col in dataframe:\n",
    "        # Lemmatize token (preserve unlemmatizable tokens according to threshold)\n",
    "        dataframe[col] = dataframe[col]\\\n",
    "            .apply(lambda tokens: [y for token in literal_eval(tokens) if (y := (morphed_token[0]['lemma'] if (morphed_token := morph.find(token)) else token if unlemmatizable_tokens_histogram[token] >= unlemmatizable_tokens_threshold else None)) is not None])\n",
    "    return dataframe"
   ]
  },
  {
   "cell_type": "code",
   "execution_count": 10,
   "metadata": {
    "pycharm": {
     "name": "#%%\n"
    }
   },
   "outputs": [],
   "source": [
    "# Tokenize parsed file chunk by chunk\n",
    "for chunk in pd.read_csv(parsed_file_path,sep=\",\",header=None,names=['0','1'],encoding='UTF-8',chunksize=50):\n",
    "    chunk = clear_data(chunk)\n",
    "    chunk = tokenize(chunk)\n",
    "    # Creates histogram of not lemmatizable tokens\n",
    "    add_unlemmatizable_words(chunk,unlemmatizable_tokens_histogram)\n",
    "    chunk.to_csv(tokenized_file_path, mode='a+', header=False, index=False,encoding='UTF-8')"
   ]
  },
  {
   "cell_type": "code",
   "execution_count": 11,
   "metadata": {
    "pycharm": {
     "name": "#%%\n"
    }
   },
   "outputs": [],
   "source": [
    "# Lemmatize Tokens chunk by chunk\n",
    "for chunk in pd.read_csv(tokenized_file_path,sep=\",\",header=None,names=['0','1'],encoding='UTF-8',chunksize=50):\n",
    "    chunk = lemmatize(chunk)\n",
    "    chunk.to_csv(lemmatized_file_path, mode='a+', header=False, index=False,encoding='UTF-8')"
   ]
  },
  {
   "cell_type": "markdown",
   "metadata": {},
   "source": [
    "# Statistics"
   ]
  },
  {
   "cell_type": "markdown",
   "metadata": {},
   "source": [
    "First we want to count the number of files in the output file.\n",
    "\n",
    "The stats which are we interested in:\n",
    "- Total number of tokens in file (total)\n",
    "- Number of unique tokens in file (uq_total)\n",
    "- Number of unique tokens which were lemmatized (uq_lemmatized)\n",
    "- Number of unique tokens which could not be lemmatized with given wordlist, but still made it to the output file, because their occurence was higher then the threshold"
   ]
  },
  {
   "cell_type": "code",
   "execution_count": 12,
   "metadata": {},
   "outputs": [],
   "source": [
    "def count_lemmas(tokens,stats):\n",
    "    for token in tokens:\n",
    "        stats['total']+=1\n",
    "        \n",
    "        # check whether the token is present in unique tokens\n",
    "        if not token in stats['uq_hashmap']: \n",
    "            stats['uq_hashmap'][token] = True # mark token in unique hashmap\n",
    "            stats['uq_total']+=1 # increase number of total unique tokens\n",
    "            \n",
    "            # increase the number of token (lemmatized or preserved (unlemmatizable))\n",
    "            if token in unlemmatizable_tokens_histogram:\n",
    "                stats['uq_preserved']+=1\n",
    "            else:\n",
    "                stats['uq_lemmatized']+=1\n",
    "                \n",
    "word_stats = {\n",
    "    'total': 0, \n",
    "    'uq_total':0, \n",
    "    'uq_lemmatized': 0,\n",
    "    'uq_preserved': 0, \n",
    "    'uq_hashmap': {}\n",
    "}\n",
    "\n",
    "data = pd.read_csv(lemmatized_file_path,sep=\",\",header=None,names=['0','1'],encoding='UTF-8')   \n",
    "for col in data:\n",
    "    data[col].apply(lambda lemmas: count_lemmas(literal_eval(lemmas),word_stats))"
   ]
  },
  {
   "cell_type": "code",
   "execution_count": 13,
   "metadata": {},
   "outputs": [
    {
     "name": "stdout",
     "output_type": "stream",
     "text": [
      "File ../data/out-lemmatized.csv:\n",
      "┌──────────────────────────────────────────────────────────────────────┬──────────┐\n",
      "│ Total words                                                          │ 75378655 │\n",
      "├──────────────────────────────────────────────────────────────────────┼──────────┤\n",
      "│ Unique words                                                         │   747372 │\n",
      "├──────────────────────────────────────────────────────────────────────┼──────────┤\n",
      "│ Unique lemmatized words                                              │    34719 │\n",
      "├──────────────────────────────────────────────────────────────────────┼──────────┤\n",
      "│ Unique unlemmatizable (reached threshold, therefore preserved) words │   712653 │\n",
      "└──────────────────────────────────────────────────────────────────────┴──────────┘\n"
     ]
    }
   ],
   "source": [
    "print(f'File {lemmatized_file_path}:')\n",
    "print(to_text([\n",
    "    [f'Total words', word_stats['total']],\n",
    "    [f'Unique words', word_stats['uq_total']],\n",
    "    [f'Unique lemmatized words', word_stats['uq_lemmatized']],\n",
    "    [f'Unique unlemmatizable (reached threshold, therefore preserved) words', word_stats['uq_preserved']]\n",
    "]))"
   ]
  },
  {
   "cell_type": "markdown",
   "metadata": {},
   "source": [
    "## Unlemmatizable words\n",
    "\n",
    "Currently we store the unlemmatizable tokens in separate hashmap with its occurence number.\n",
    "We can create statistics from this hashmap.\n",
    "\n",
    "What we are interested in:\n",
    "- Are there any outliers?\n",
    "- Could we normalize the dataset, remove the outliers"
   ]
  },
  {
   "cell_type": "code",
   "execution_count": 21,
   "metadata": {},
   "outputs": [],
   "source": [
    "df_histogram = pd.DataFrame({'lemma': list(unlemmatizable_tokens_histogram.keys()),'count':list(unlemmatizable_tokens_histogram.values())})"
   ]
  },
  {
   "cell_type": "code",
   "execution_count": 23,
   "metadata": {},
   "outputs": [
    {
     "data": {
      "text/plain": [
       "<AxesSubplot:xlabel='count'>"
      ]
     },
     "execution_count": 23,
     "metadata": {},
     "output_type": "execute_result"
    },
    {
     "data": {
      "image/png": "[encoded data removed]",
      "text/plain": [
       "<Figure size 432x288 with 1 Axes>"
      ]
     },
     "metadata": {
      "needs_background": "light"
     },
     "output_type": "display_data"
    }
   ],
   "source": [
    "sns.boxplot(x=df_histogram['count'])"
   ]
  },
  {
   "cell_type": "markdown",
   "metadata": {},
   "source": [
    "We can see on the graph that we have few outliers there. We might try to print out what are those words."
   ]
  },
  {
   "cell_type": "code",
   "execution_count": 26,
   "metadata": {},
   "outputs": [
    {
     "data": {
      "text/html": [
       "<div>\n",
       "<style scoped>\n",
       "    .dataframe tbody tr th:only-of-type {\n",
       "        vertical-align: middle;\n",
       "    }\n",
       "\n",
       "    .dataframe tbody tr th {\n",
       "        vertical-align: top;\n",
       "    }\n",
       "\n",
       "    .dataframe thead th {\n",
       "        text-align: right;\n",
       "    }\n",
       "</style>\n",
       "<table border=\"1\" class=\"dataframe\">\n",
       "  <thead>\n",
       "    <tr style=\"text-align: right;\">\n",
       "      <th></th>\n",
       "      <th>lemma</th>\n",
       "      <th>count</th>\n",
       "    </tr>\n",
       "  </thead>\n",
       "  <tbody>\n",
       "    <tr>\n",
       "      <th>0</th>\n",
       "      <td>wikipedii</td>\n",
       "      <td>4571</td>\n",
       "    </tr>\n",
       "    <tr>\n",
       "      <th>1</th>\n",
       "      <td>wikiprojekt</td>\n",
       "      <td>7065</td>\n",
       "    </tr>\n",
       "    <tr>\n",
       "      <th>2</th>\n",
       "      <td>wikipedie</td>\n",
       "      <td>114467</td>\n",
       "    </tr>\n",
       "    <tr>\n",
       "      <th>3</th>\n",
       "      <td>commons</td>\n",
       "      <td>9445</td>\n",
       "    </tr>\n",
       "    <tr>\n",
       "      <th>5</th>\n",
       "      <td>pictures</td>\n",
       "      <td>3372</td>\n",
       "    </tr>\n",
       "    <tr>\n",
       "      <th>...</th>\n",
       "      <td>...</td>\n",
       "      <td>...</td>\n",
       "    </tr>\n",
       "    <tr>\n",
       "      <th>1209026</th>\n",
       "      <td>''parazit</td>\n",
       "      <td>62</td>\n",
       "    </tr>\n",
       "    <tr>\n",
       "      <th>1239364</th>\n",
       "      <td>q54919</td>\n",
       "      <td>77</td>\n",
       "    </tr>\n",
       "    <tr>\n",
       "      <th>1244399</th>\n",
       "      <td>reisho</td>\n",
       "      <td>55</td>\n",
       "    </tr>\n",
       "    <tr>\n",
       "      <th>1244400</th>\n",
       "      <td>tokaido</td>\n",
       "      <td>168</td>\n",
       "    </tr>\n",
       "    <tr>\n",
       "      <th>1244409</th>\n",
       "      <td>gyosho</td>\n",
       "      <td>51</td>\n",
       "    </tr>\n",
       "  </tbody>\n",
       "</table>\n",
       "<p>62394 rows × 2 columns</p>\n",
       "</div>"
      ],
      "text/plain": [
       "               lemma   count\n",
       "0          wikipedii    4571\n",
       "1        wikiprojekt    7065\n",
       "2          wikipedie  114467\n",
       "3            commons    9445\n",
       "5           pictures    3372\n",
       "...              ...     ...\n",
       "1209026    ''parazit      62\n",
       "1239364       q54919      77\n",
       "1244399       reisho      55\n",
       "1244400      tokaido     168\n",
       "1244409       gyosho      51\n",
       "\n",
       "[62394 rows x 2 columns]"
      ]
     },
     "execution_count": 26,
     "metadata": {},
     "output_type": "execute_result"
    }
   ],
   "source": [
    "df_histogram[df_histogram['count'] > df_histogram['count'].quantile(.95)]"
   ]
  },
  {
   "cell_type": "markdown",
   "metadata": {},
   "source": [
    "Alright, we see there're such words as \"wikipedie\" or \"wikipedii\". We've been expecting that, because it's a czech equivalent for wikipedia - our source of data.\n",
    "\n",
    "We might try to remove the outliers and keep the data in interquartile range."
   ]
  },
  {
   "cell_type": "code",
   "execution_count": 27,
   "metadata": {},
   "outputs": [],
   "source": [
    "y = df_histogram['count']\n",
    "removed_outliers = y.between(y.quantile(.05), y.quantile(.95))\n",
    "df_histogram.drop(df_histogram[~removed_outliers].index, inplace=True)"
   ]
  },
  {
   "cell_type": "code",
   "execution_count": 28,
   "metadata": {},
   "outputs": [
    {
     "data": {
      "text/plain": [
       "Text(0.5, 0, 'Number of single lemma occurences')"
      ]
     },
     "execution_count": 28,
     "metadata": {},
     "output_type": "execute_result"
    },
    {
     "data": {
      "image/png": "[encoded data removed]",
      "text/plain": [
       "<Figure size 432x288 with 1 Axes>"
      ]
     },
     "metadata": {
      "needs_background": "light"
     },
     "output_type": "display_data"
    }
   ],
   "source": [
    "sns.histplot(data=df_histogram['count'],discrete=True)\n",
    "plt.xlabel('Number of single lemma occurences')"
   ]
  },
  {
   "cell_type": "code",
   "execution_count": 29,
   "metadata": {},
   "outputs": [
    {
     "data": {
      "text/plain": [
       "<AxesSubplot:xlabel='count'>"
      ]
     },
     "execution_count": 29,
     "metadata": {},
     "output_type": "execute_result"
    },
    {
     "data": {
      "image/png": "[encoded data removed]",
      "text/plain": [
       "<Figure size 432x288 with 1 Axes>"
      ]
     },
     "metadata": {
      "needs_background": "light"
     },
     "output_type": "display_data"
    }
   ],
   "source": [
    "sns.boxplot(x=df_histogram['count'])"
   ]
  },
  {
   "cell_type": "markdown",
   "metadata": {},
   "source": [
    "We might see that the're still more outliers, because our IQR has changed - but its normal because our data are not of non-normal distribution."
   ]
  }
 ],
 "metadata": {
  "kernelspec": {
   "display_name": "Python 3",
   "language": "python",
   "name": "python3"
  },
  "language_info": {
   "codemirror_mode": {
    "name": "ipython",
    "version": 3
   },
   "file_extension": ".py",
   "mimetype": "text/x-python",
   "name": "python",
   "nbconvert_exporter": "python",
   "pygments_lexer": "ipython3",
   "version": "3.8.6"
  }
 },
 "nbformat": 4,
 "nbformat_minor": 1
}
