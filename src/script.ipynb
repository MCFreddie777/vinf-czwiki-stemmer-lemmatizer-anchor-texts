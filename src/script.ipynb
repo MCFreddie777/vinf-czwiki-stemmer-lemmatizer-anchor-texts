{
 "cells": [
  {
   "cell_type": "code",
   "execution_count": 1,
   "metadata": {
    "pycharm": {
     "name": "#%%\n"
    }
   },
   "outputs": [],
   "source": [
    "import nltk\n",
    "import pandas as pd\n",
    "import numpy as np\n",
    "from parser import parse_xml_file\n",
    "from stop_words import get_stop_words\n",
    "from string_helper import replace_string_with_pattern, clear_empty_string, decode_html_chars\n",
    "import majka\n",
    "from ast import literal_eval"
   ]
  },
  {
   "cell_type": "code",
   "execution_count": 2,
   "metadata": {
    "pycharm": {
     "name": "#%%\n"
    }
   },
   "outputs": [],
   "source": [
    "# Configuration\n",
    "DEBUG = True\n",
    "\n",
    "if (DEBUG):\n",
    "    pd.set_option('display.max_rows', 500)\n",
    "    pd.set_option('display.width', 1000)\n",
    "\n",
    "try:\n",
    "    nltk.data.find('tokenizers/punkt')\n",
    "except LookupError:\n",
    "    nltk.download('punkt')\n",
    "\n",
    "# Czech stopwords\n",
    "stop_words = get_stop_words('cz')\n",
    "\n",
    "# Custom stopwords (missing from official czech stop words package)\n",
    "stop_words.extend(['a','v','vo','na','k','u','i','zo','z','so','s',])\n",
    "\n",
    "# Czech lemmatizer Majka\n",
    "morph = majka.Majka('../wordlists/majka.w-lt')\n",
    "morph.flags |= majka.ADD_DIACRITICS  # Find word forms with diacritics\n",
    "morph.flags |= majka.DISALLOW_LOWERCASE  # Do not enable to find lowercase variants\n",
    "morph.flags |= majka.IGNORE_CASE  # Ignore the word case whatsoever\n",
    "morph.flags = 0  # Unset all flags\n",
    "morph.tags = False  # Return just the lemma\n",
    "morph.first_only = True  # Return only the first entry\n",
    "\n",
    "# Histogram of unlemmatizable words\n",
    "unlemmatized_words_histogram = {}\n",
    "treshold = 2"
   ]
  },
  {
   "cell_type": "code",
   "execution_count": 3,
   "metadata": {
    "pycharm": {
     "name": "#%%\n"
    }
   },
   "outputs": [
    {
     "name": "stdout",
     "output_type": "stream",
     "text": [
      "['ačkoli', 'ahoj', 'ale', 'anebo', 'ano', 'asi', 'aspoň', 'během', 'bez', 'beze', 'blízko', 'bohužel', 'brzo', 'bude', 'budeme', 'budeš', 'budete', 'budou', 'budu', 'byl', 'byla', 'byli', 'bylo', 'byly', 'bys', 'čau', 'chce', 'chceme', 'chceš', 'chcete', 'chci', 'chtějí', 'chtít', \"chut'\", 'chuti', 'co', 'čtrnáct', 'čtyři', 'dál', 'dále', 'daleko', 'děkovat', 'děkujeme', 'děkuji', 'den', 'deset', 'devatenáct', 'devět', 'do', 'dobrý', 'docela', 'dva', 'dvacet', 'dvanáct', 'dvě', 'hodně', 'já', 'jak', 'jde', 'je', 'jeden', 'jedenáct', 'jedna', 'jedno', 'jednou', 'jedou', 'jeho', 'její', 'jejich', 'jemu', 'jen', 'jenom', 'ještě', 'jestli', 'jestliže', 'jí', 'jich', 'jím', 'jimi', 'jinak', 'jsem', 'jsi', 'jsme', 'jsou', 'jste', 'kam', 'kde', 'kdo', 'kdy', 'když', 'ke', 'kolik', 'kromě', 'která', 'které', 'kteří', 'který', 'kvůli', 'má', 'mají', 'málo', 'mám', 'máme', 'máš', 'máte', 'mé', 'mě', 'mezi', 'mí', 'mít', 'mně', 'mnou', 'moc', 'mohl', 'mohou', 'moje', 'moji', 'možná', 'můj', 'musí', 'může', 'my', 'na', 'nad', 'nade', 'nám', 'námi', 'naproti', 'nás', 'náš', 'naše', 'naši', 'ne', 'ně', 'nebo', 'nebyl', 'nebyla', 'nebyli', 'nebyly', 'něco', 'nedělá', 'nedělají', 'nedělám', 'neděláme', 'neděláš', 'neděláte', 'nějak', 'nejsi', 'někde', 'někdo', 'nemají', 'nemáme', 'nemáte', 'neměl', 'němu', 'není', 'nestačí', 'nevadí', 'než', 'nic', 'nich', 'ním', 'nimi', 'nula', 'od', 'ode', 'on', 'ona', 'oni', 'ono', 'ony', 'osm', 'osmnáct', 'pak', 'patnáct', 'pět', 'po', 'pořád', 'potom', 'pozdě', 'před', 'přes', 'přese', 'pro', 'proč', 'prosím', 'prostě', 'proti', 'protože', 'rovně', 'se', 'sedm', 'sedmnáct', 'šest', 'šestnáct', 'skoro', 'smějí', 'smí', 'snad', 'spolu', 'sta', 'sté', 'sto', 'ta', 'tady', 'tak', 'takhle', 'taky', 'tam', 'tamhle', 'tamhleto', 'tamto', 'tě', 'tebe', 'tebou', \"ted'\", 'tedy', 'ten', 'ti', 'tisíc', 'tisíce', 'to', 'tobě', 'tohle', 'toto', 'třeba', 'tři', 'třináct', 'trošku', 'tvá', 'tvé', 'tvoje', 'tvůj', 'ty', 'určitě', 'už', 'vám', 'vámi', 'vás', 'váš', 'vaše', 'vaši', 've', 'večer', 'vedle', 'vlastně', 'všechno', 'všichni', 'vůbec', 'vy', 'vždy', 'za', 'zač', 'zatímco', 'ze', 'že', 'a', 'v', 'vo', 'na', 'k', 'u', 'i', 'zo', 'z', 'so', 's']\n"
     ]
    }
   ],
   "source": [
    "print(stop_words)"
   ]
  },
  {
   "cell_type": "code",
   "execution_count": 4,
   "metadata": {},
   "outputs": [],
   "source": [
    "# Load file paths\n",
    "xml_file_path = '../data/test.xml' if DEBUG else '../data/cswiki-latest-pages-articles.xml'\n",
    "parsed_file_path = '../data/out-parsed.csv'\n",
    "tokenized_file_path = '../data/out-tokenized.csv'\n",
    "lemmatized_file_path = '../data/out-lemmatized.csv'"
   ]
  },
  {
   "cell_type": "code",
   "execution_count": 5,
   "metadata": {
    "pycharm": {
     "name": "#%%\n"
    }
   },
   "outputs": [],
   "source": [
    "# Parse input file line by line \n",
    "parse_xml_file(xml_file_path, parsed_file_path)"
   ]
  },
  {
   "cell_type": "code",
   "execution_count": 6,
   "metadata": {
    "pycharm": {
     "name": "#%%\n"
    }
   },
   "outputs": [],
   "source": [
    "def clear_data(dataframe):\n",
    "    for col in dataframe:\n",
    "        dataframe[col] = dataframe[col]\\\n",
    "        .apply(lambda x: x if x is not np.NaN else None) \\\n",
    "        .apply(replace_string_with_pattern,pattern=r\"[\\\\/:.,\\-_#()?“„ ]+|{.*}\",replace_with=' ') \\\n",
    "        .apply(replace_string_with_pattern,pattern=r\"&amp;\",replace_with='&') \\\n",
    "        .apply(decode_html_chars) \\\n",
    "        .apply(clear_empty_string)\n",
    "\n",
    "    return dataframe"
   ]
  },
  {
   "cell_type": "code",
   "execution_count": 7,
   "metadata": {
    "pycharm": {
     "name": "#%%\n"
    }
   },
   "outputs": [],
   "source": [
    "def tokenize(dataframe):\n",
    "    for col in dataframe:\n",
    "        dataframe[col] = dataframe[col]\\\n",
    "            .apply(lambda data: nltk.tokenize.word_tokenize(data) if data is not None else [])\\\n",
    "            .apply(lambda tokens: [token.lower() for token in tokens if not token in stop_words])\n",
    "    return dataframe"
   ]
  },
  {
   "cell_type": "code",
   "execution_count": 8,
   "metadata": {
    "pycharm": {
     "name": "#%%\n"
    }
   },
   "outputs": [],
   "source": [
    "def add_unlemmatized_words(dataframe,histogram):\n",
    "    for col in dataframe:\n",
    "        for row in dataframe[col]:\n",
    "            for word in row:\n",
    "                if not (morph.find(word)):\n",
    "                    histogram[word] = histogram[word]+1 if word in histogram else 1\n"
   ]
  },
  {
   "cell_type": "code",
   "execution_count": 9,
   "metadata": {
    "pycharm": {
     "name": "#%%\n"
    }
   },
   "outputs": [],
   "source": [
    "def lemmatize(dataframe):\n",
    "    for col in dataframe:\n",
    "        dataframe[col] = dataframe[col]\\\n",
    "            .apply(lambda tokens: [y for token in literal_eval(tokens) if (y := (morphed_token[0]['lemma'] if (morphed_token := morph.find(token)) else token if unlemmatized_words_histogram[token] >= treshold else None)) is not None])\n",
    "    return dataframe"
   ]
  },
  {
   "cell_type": "code",
   "execution_count": 10,
   "metadata": {
    "pycharm": {
     "name": "#%%\n"
    }
   },
   "outputs": [],
   "source": [
    "# Process parsed file chunk by chunk\n",
    "for chunk in pd.read_csv(parsed_file_path,sep=\",\",header=None,names=['0','1'],encoding='UTF-8',chunksize=50):\n",
    "    chunk = clear_data(chunk)\n",
    "    chunk = tokenize(chunk)\n",
    "    add_unlemmatized_words(chunk,unlemmatized_words_histogram)\n",
    "    chunk.to_csv(tokenized_file_path, mode='a+', header=False, index=False,encoding='UTF-8')"
   ]
  },
  {
   "cell_type": "code",
   "execution_count": 11,
   "metadata": {
    "pycharm": {
     "name": "#%%\n"
    }
   },
   "outputs": [],
   "source": [
    "for chunk in pd.read_csv(tokenized_file_path,sep=\",\",header=None,names=['0','1'],encoding='UTF-8',chunksize=50):\n",
    "    chunk = lemmatize(chunk)\n",
    "    chunk.to_csv(lemmatized_file_path, mode='a+', header=False, index=False,encoding='UTF-8')"
   ]
  }
 ],
 "metadata": {
  "kernelspec": {
   "display_name": "Python 3",
   "language": "python",
   "name": "python3"
  },
  "language_info": {
   "codemirror_mode": {
    "name": "ipython",
    "version": 3
   },
   "file_extension": ".py",
   "mimetype": "text/x-python",
   "name": "python",
   "nbconvert_exporter": "python",
   "pygments_lexer": "ipython3",
   "version": "3.8.6"
  }
 },
 "nbformat": 4,
 "nbformat_minor": 1
}