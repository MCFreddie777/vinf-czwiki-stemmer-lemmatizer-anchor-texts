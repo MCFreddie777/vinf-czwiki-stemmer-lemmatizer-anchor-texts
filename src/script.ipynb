{
 "cells": [
  {
   "cell_type": "code",
   "execution_count": 43,
   "metadata": {
    "pycharm": {
     "name": "#%%\n"
    }
   },
   "outputs": [],
   "source": [
    "import regex\n",
    "import pandas as pd"
   ]
  },
  {
   "cell_type": "code",
   "execution_count": 44,
   "metadata": {
    "pycharm": {
     "name": "#%%\n"
    }
   },
   "outputs": [],
   "source": [
    "DEBUG = True"
   ]
  },
  {
   "cell_type": "code",
   "execution_count": 45,
   "metadata": {
    "pycharm": {
     "name": "#%%\n"
    }
   },
   "outputs": [],
   "source": [
    "def parse_xml_file(in_file_path,out_file_path):\n",
    "    with open(in_file_path,\"r\", encoding='UTF-8') as in_file, open(out_file_path,\"w+\",encoding='UTF-8') as out_file:\n",
    "        for line in in_file:\n",
    "            parse_anchors_from_line(line,out_file)"
   ]
  },
  {
   "cell_type": "code",
   "execution_count": 46,
   "metadata": {
    "pycharm": {
     "name": "#%%\n"
    }
   },
   "outputs": [],
   "source": [
    "def parse_anchors_from_line(line,out_file):\n",
    "    expression = '\\[\\[([\\p{L}\\p{Po}\\p{Pi}\\p{Pf}\\p{Ps}\\p{Pc}\\p{Pd}\\p{Sk}\\p{So}\\p{C}\\p{N}\\p{Z}})=>]+)\\|?([\\p{L}\\p{Po}\\p{Pi}\\p{Pf}\\p{Ps}\\p{Pc}\\p{Pd}\\p{Sk}\\p{So}\\p{C}\\p{N}\\p{Z}})=>]+)?\\]\\]'\n",
    "    line_matches = regex.findall(expression,line)\n",
    "    if len(line_matches) > 0:\n",
    "        for regex_match in line_matches:\n",
    "            items = list(filter(None,regex_match))\n",
    "            for index,item in enumerate(items):\n",
    "                out_file.write(f\"{item}{',' if index != len(items)-1 else ''}\")\n",
    "            out_file.write('\\n')"
   ]
  },
  {
   "cell_type": "code",
   "execution_count": 47,
   "metadata": {
    "pycharm": {
     "name": "#%%\n"
    }
   },
   "outputs": [],
   "source": [
    "xml_file_path = '../data/test.xml' if DEBUG else '../data/cswiki-latest-pages-articles.xml'\n",
    "csv_file_path = '../data/output.csv'"
   ]
  },
  {
   "cell_type": "code",
   "execution_count": 48,
   "metadata": {
    "pycharm": {
     "name": "#%%\n"
    }
   },
   "outputs": [],
   "source": [
    "parse_xml_file(xml_file_path, csv_file_path)"
   ]
  },
  {
   "cell_type": "code",
   "execution_count": 50,
   "metadata": {
    "pycharm": {
     "name": "#%%\n"
    }
   },
   "outputs": [
    {
     "data": {
      "text/html": [
       "<div>\n",
       "<style scoped>\n",
       "    .dataframe tbody tr th:only-of-type {\n",
       "        vertical-align: middle;\n",
       "    }\n",
       "\n",
       "    .dataframe tbody tr th {\n",
       "        vertical-align: top;\n",
       "    }\n",
       "\n",
       "    .dataframe thead th {\n",
       "        text-align: right;\n",
       "    }\n",
       "</style>\n",
       "<table border=\"1\" class=\"dataframe\">\n",
       "  <thead>\n",
       "    <tr style=\"text-align: right;\">\n",
       "      <th></th>\n",
       "      <th>Href</th>\n",
       "      <th>Text</th>\n",
       "    </tr>\n",
       "  </thead>\n",
       "  <tbody>\n",
       "    <tr>\n",
       "      <th>0</th>\n",
       "      <td>Diskuse k Wikipedii:WikiProjekt Kvalita/Kritér...</td>\n",
       "      <td>dle diskuse</td>\n",
       "    </tr>\n",
       "    <tr>\n",
       "      <th>1</th>\n",
       "      <td>Wikipedie:Průvodce</td>\n",
       "      <td>Vítejte ve&amp;amp;nbsp;Wikipedii</td>\n",
       "    </tr>\n",
       "    <tr>\n",
       "      <th>2</th>\n",
       "      <td>encyklopedie</td>\n",
       "      <td>encyklopedii</td>\n",
       "    </tr>\n",
       "    <tr>\n",
       "      <th>3</th>\n",
       "      <td>Nápověda:Úvod</td>\n",
       "      <td>upravovat každý</td>\n",
       "    </tr>\n",
       "    <tr>\n",
       "      <th>4</th>\n",
       "      <td>Česká Wikipedie</td>\n",
       "      <td>NaN</td>\n",
       "    </tr>\n",
       "    <tr>\n",
       "      <th>...</th>\n",
       "      <td>...</td>\n",
       "      <td>...</td>\n",
       "    </tr>\n",
       "    <tr>\n",
       "      <th>267</th>\n",
       "      <td>turistická značka</td>\n",
       "      <td>NaN</td>\n",
       "    </tr>\n",
       "    <tr>\n",
       "      <th>268</th>\n",
       "      <td>turistická mapa</td>\n",
       "      <td>NaN</td>\n",
       "    </tr>\n",
       "    <tr>\n",
       "      <th>269</th>\n",
       "      <td>turistická známka</td>\n",
       "      <td>NaN</td>\n",
       "    </tr>\n",
       "    <tr>\n",
       "      <th>270</th>\n",
       "      <td>Turistické značení v Česku a na Slovensku</td>\n",
       "      <td>NaN</td>\n",
       "    </tr>\n",
       "    <tr>\n",
       "      <th>271</th>\n",
       "      <td>Kategorie:Turistika</td>\n",
       "      <td></td>\n",
       "    </tr>\n",
       "  </tbody>\n",
       "</table>\n",
       "<p>272 rows × 2 columns</p>\n",
       "</div>"
      ],
      "text/plain": [
       "                                                  Href  \\\n",
       "0    Diskuse k Wikipedii:WikiProjekt Kvalita/Kritér...   \n",
       "1                                   Wikipedie:Průvodce   \n",
       "2                                         encyklopedie   \n",
       "3                                        Nápověda:Úvod   \n",
       "4                                      Česká Wikipedie   \n",
       "..                                                 ...   \n",
       "267                                  turistická značka   \n",
       "268                                    turistická mapa   \n",
       "269                                  turistická známka   \n",
       "270          Turistické značení v Česku a na Slovensku   \n",
       "271                                Kategorie:Turistika   \n",
       "\n",
       "                              Text  \n",
       "0                      dle diskuse  \n",
       "1    Vítejte ve&amp;nbsp;Wikipedii  \n",
       "2                     encyklopedii  \n",
       "3                  upravovat každý  \n",
       "4                              NaN  \n",
       "..                             ...  \n",
       "267                            NaN  \n",
       "268                            NaN  \n",
       "269                            NaN  \n",
       "270                            NaN  \n",
       "271                                 \n",
       "\n",
       "[272 rows x 2 columns]"
      ]
     },
     "execution_count": 50,
     "metadata": {},
     "output_type": "execute_result"
    }
   ],
   "source": [
    "df = pd.read_csv(csv_file_path,sep=\",\",names=['Href','Text']);"
   ]
  },
  {
   "cell_type": "code",
   "execution_count": 51,
   "metadata": {},
   "outputs": [
    {
     "data": {
      "text/html": [
       "<div>\n",
       "<style scoped>\n",
       "    .dataframe tbody tr th:only-of-type {\n",
       "        vertical-align: middle;\n",
       "    }\n",
       "\n",
       "    .dataframe tbody tr th {\n",
       "        vertical-align: top;\n",
       "    }\n",
       "\n",
       "    .dataframe thead th {\n",
       "        text-align: right;\n",
       "    }\n",
       "</style>\n",
       "<table border=\"1\" class=\"dataframe\">\n",
       "  <thead>\n",
       "    <tr style=\"text-align: right;\">\n",
       "      <th></th>\n",
       "      <th>Href</th>\n",
       "      <th>Text</th>\n",
       "    </tr>\n",
       "  </thead>\n",
       "  <tbody>\n",
       "    <tr>\n",
       "      <th>0</th>\n",
       "      <td>Diskuse k Wikipedii:WikiProjekt Kvalita/Kritér...</td>\n",
       "      <td>dle diskuse</td>\n",
       "    </tr>\n",
       "    <tr>\n",
       "      <th>1</th>\n",
       "      <td>Wikipedie:Průvodce</td>\n",
       "      <td>Vítejte ve&amp;amp;nbsp;Wikipedii</td>\n",
       "    </tr>\n",
       "    <tr>\n",
       "      <th>2</th>\n",
       "      <td>encyklopedie</td>\n",
       "      <td>encyklopedii</td>\n",
       "    </tr>\n",
       "    <tr>\n",
       "      <th>3</th>\n",
       "      <td>Nápověda:Úvod</td>\n",
       "      <td>upravovat každý</td>\n",
       "    </tr>\n",
       "    <tr>\n",
       "      <th>4</th>\n",
       "      <td>Česká Wikipedie</td>\n",
       "      <td>NaN</td>\n",
       "    </tr>\n",
       "    <tr>\n",
       "      <th>...</th>\n",
       "      <td>...</td>\n",
       "      <td>...</td>\n",
       "    </tr>\n",
       "    <tr>\n",
       "      <th>267</th>\n",
       "      <td>turistická značka</td>\n",
       "      <td>NaN</td>\n",
       "    </tr>\n",
       "    <tr>\n",
       "      <th>268</th>\n",
       "      <td>turistická mapa</td>\n",
       "      <td>NaN</td>\n",
       "    </tr>\n",
       "    <tr>\n",
       "      <th>269</th>\n",
       "      <td>turistická známka</td>\n",
       "      <td>NaN</td>\n",
       "    </tr>\n",
       "    <tr>\n",
       "      <th>270</th>\n",
       "      <td>Turistické značení v Česku a na Slovensku</td>\n",
       "      <td>NaN</td>\n",
       "    </tr>\n",
       "    <tr>\n",
       "      <th>271</th>\n",
       "      <td>Kategorie:Turistika</td>\n",
       "      <td></td>\n",
       "    </tr>\n",
       "  </tbody>\n",
       "</table>\n",
       "<p>272 rows × 2 columns</p>\n",
       "</div>"
      ],
      "text/plain": [
       "                                                  Href  \\\n",
       "0    Diskuse k Wikipedii:WikiProjekt Kvalita/Kritér...   \n",
       "1                                   Wikipedie:Průvodce   \n",
       "2                                         encyklopedie   \n",
       "3                                        Nápověda:Úvod   \n",
       "4                                      Česká Wikipedie   \n",
       "..                                                 ...   \n",
       "267                                  turistická značka   \n",
       "268                                    turistická mapa   \n",
       "269                                  turistická známka   \n",
       "270          Turistické značení v Česku a na Slovensku   \n",
       "271                                Kategorie:Turistika   \n",
       "\n",
       "                              Text  \n",
       "0                      dle diskuse  \n",
       "1    Vítejte ve&amp;nbsp;Wikipedii  \n",
       "2                     encyklopedii  \n",
       "3                  upravovat každý  \n",
       "4                              NaN  \n",
       "..                             ...  \n",
       "267                            NaN  \n",
       "268                            NaN  \n",
       "269                            NaN  \n",
       "270                            NaN  \n",
       "271                                 \n",
       "\n",
       "[272 rows x 2 columns]"
      ]
     },
     "execution_count": 51,
     "metadata": {},
     "output_type": "execute_result"
    }
   ],
   "source": [
    "df"
   ]
  }
 ],
 "metadata": {
  "kernelspec": {
   "display_name": "Python 3",
   "language": "python",
   "name": "python3"
  },
  "language_info": {
   "codemirror_mode": {
    "name": "ipython",
    "version": 3
   },
   "file_extension": ".py",
   "mimetype": "text/x-python",
   "name": "python",
   "nbconvert_exporter": "python",
   "pygments_lexer": "ipython3",
   "version": "3.8.5"
  }
 },
 "nbformat": 4,
 "nbformat_minor": 1
}