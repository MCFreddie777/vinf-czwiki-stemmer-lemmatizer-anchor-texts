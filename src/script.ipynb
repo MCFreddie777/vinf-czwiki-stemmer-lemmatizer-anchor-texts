{
 "cells": [
  {
   "cell_type": "code",
   "execution_count": 1,
   "metadata": {
    "pycharm": {
     "name": "#%%\n"
    }
   },
   "outputs": [],
   "source": [
    "import nltk\n",
    "import pandas as pd\n",
    "import numpy as np\n",
    "from parser import parse_xml_file\n",
    "from stop_words import get_stop_words\n",
    "from string_helper import replace_string_with_pattern, clear_empty_string, decode_html_chars\n",
    "import majka"
   ]
  },
  {
   "cell_type": "code",
   "execution_count": 2,
   "metadata": {
    "pycharm": {
     "name": "#%%\n"
    }
   },
   "outputs": [],
   "source": [
    "# Configuration\n",
    "DEBUG = True # Whether to use test dataset or full data\n",
    "PRESERVE_UNRECOGNIZED_WORDS = True # Preserve words not found in lemma wordlist\n",
    "PRESERVE_NUMBERS = True # Preserve numbers in dataset\n",
    "\n",
    "try:\n",
    "    nltk.data.find('tokenizers/punkt')\n",
    "except LookupError:\n",
    "    nltk.download('punkt')\n",
    "\n",
    "# Czech stopwords\n",
    "stop_words = get_stop_words('cz')\n",
    "\n",
    "# Czech lemmatizer Majka\n",
    "morph = majka.Majka('../wordlists/majka.w-lt')\n",
    "morph.flags |= majka.ADD_DIACRITICS  # Find word forms with diacritics\n",
    "morph.flags |= majka.DISALLOW_LOWERCASE  # Do not enable to find lowercase variants\n",
    "morph.flags |= majka.IGNORE_CASE  # Ignore the word case whatsoever\n",
    "morph.flags = 0  # Unset all flags\n",
    "morph.tags = False  # Return just the lemma\n",
    "morph.first_only = True  # Return only the first entry"
   ]
  },
  {
   "cell_type": "code",
   "execution_count": 3,
   "metadata": {
    "pycharm": {
     "name": "#%%\n"
    }
   },
   "outputs": [],
   "source": [
    "# Load file paths\n",
    "xml_file_path = '../data/test.xml' if DEBUG else '../data/cswiki-latest-pages-articles.xml'\n",
    "parsed_file_path = '../data/out-parsed.csv'\n",
    "lemmatized_file_path = '../data/out-lemmatized.csv'"
   ]
  },
  {
   "cell_type": "code",
   "execution_count": 4,
   "metadata": {
    "pycharm": {
     "name": "#%%\n"
    }
   },
   "outputs": [],
   "source": [
    "# Parse input file line by line \n",
    "parse_xml_file(xml_file_path, parsed_file_path)"
   ]
  },
  {
   "cell_type": "code",
   "execution_count": 5,
   "metadata": {
    "pycharm": {
     "name": "#%%\n"
    }
   },
   "outputs": [],
   "source": [
    "def clear_data(dataframe):\n",
    "    for col in dataframe:\n",
    "        dataframe[col] = dataframe[col]\\\n",
    "        .apply(lambda x: x if x is not np.NaN else None) \\\n",
    "        .apply(replace_string_with_pattern,pattern=r\"[\\\\/:.,\\-_#()“„ ]+|{.*}\",replace_with=' ') \\\n",
    "        .apply(replace_string_with_pattern,pattern=r\"&amp;\",replace_with='&') \\\n",
    "        .apply(lambda x: replace_string_with_pattern(x,pattern=r\"[0-9]\",replace_with='') if not PRESERVE_NUMBERS else x) \\\n",
    "        .apply(decode_html_chars) \\\n",
    "        .apply(clear_empty_string)\n",
    "\n",
    "    return dataframe"
   ]
  },
  {
   "cell_type": "code",
   "execution_count": 6,
   "metadata": {
    "pycharm": {
     "name": "#%%\n"
    }
   },
   "outputs": [],
   "source": [
    "def tokenize(dataframe):\n",
    "    for col in dataframe:\n",
    "        dataframe[col] = dataframe[col]\\\n",
    "            .apply(lambda data: nltk.tokenize.word_tokenize(data) if data is not None else [])\\\n",
    "            .apply(lambda tokens: [token for token in tokens if not token in stop_words])\n",
    "    return dataframe"
   ]
  },
  {
   "cell_type": "code",
   "execution_count": 7,
   "metadata": {
    "pycharm": {
     "name": "#%%\n"
    }
   },
   "outputs": [],
   "source": [
    "def lemmatize(dataframe):\n",
    "    for col in dataframe:\n",
    "        dataframe[col] = dataframe[col]\\\n",
    "            .apply(lambda tokens: [morphed_token[0]['lemma'] if (morphed_token := morph.find(token)) else token if PRESERVE_UNRECOGNIZED_WORDS else None for token in tokens])\n",
    "    return dataframe"
   ]
  },
  {
   "cell_type": "code",
   "execution_count": 8,
   "metadata": {
    "pycharm": {
     "name": "#%%\n"
    }
   },
   "outputs": [],
   "source": [
    "# Process parsed file chunk by chunk\n",
    "for chunk in pd.read_csv(parsed_file_path,sep=\",\",header=2,encoding='UTF-8',chunksize=50):\n",
    "    chunk = clear_data(chunk)\n",
    "    chunk = tokenize(chunk)\n",
    "    chunk = lemmatize(chunk)\n",
    "    chunk.to_csv(lemmatized_file_path, mode='a+', header=False, index=False,encoding='UTF-8')"
   ]
  }
 ],
 "metadata": {
  "kernelspec": {
   "display_name": "Python 3",
   "language": "python",
   "name": "python3"
  },
  "language_info": {
   "codemirror_mode": {
    "name": "ipython",
    "version": 3
   },
   "file_extension": ".py",
   "mimetype": "text/x-python",
   "name": "python",
   "nbconvert_exporter": "python",
   "pygments_lexer": "ipython3",
   "version": "3.8.5"
  }
 },
 "nbformat": 4,
 "nbformat_minor": 1
}