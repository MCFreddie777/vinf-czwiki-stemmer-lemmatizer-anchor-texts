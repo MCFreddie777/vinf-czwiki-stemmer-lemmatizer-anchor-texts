{
 "cells": [
  {
   "cell_type": "code",
   "execution_count": 1,
   "metadata": {
    "pycharm": {
     "name": "#%%\n"
    }
   },
   "outputs": [],
   "source": [
    "import nltk\n",
    "import pandas as pd\n",
    "import numpy as np\n",
    "import os\n",
    "import majka\n",
    "from ast import literal_eval\n",
    "import seaborn as sns\n",
    "import matplotlib.pyplot as plt\n",
    "import scipy.stats as stats\n",
    "\n",
    "from parser import parse_xml_file\n",
    "from stop_words import get_stop_words\n",
    "from string_helper import replace_string_with_pattern, clear_empty_string, decode_html_chars"
   ]
  },
  {
   "cell_type": "code",
   "execution_count": 2,
   "metadata": {
    "pycharm": {
     "name": "#%%\n"
    }
   },
   "outputs": [],
   "source": [
    "# Configuration\n",
    "DEBUG = True\n",
    "\n",
    "if (DEBUG):\n",
    "    pd.set_option('display.max_rows', 500)\n",
    "    pd.set_option('display.width', 1000)\n",
    "\n",
    "try:\n",
    "    nltk.data.find('tokenizers/punkt')\n",
    "except LookupError:\n",
    "    nltk.download('punkt')\n",
    "\n",
    "# Stopwords\n",
    "stop_words = get_stop_words('cz')\n",
    "# Extended with custom (those are missing from official stop_words package)\n",
    "stop_words.extend(['a','v','vo','na','k','u','i','zo','z','so','s',])\n",
    "\n",
    "# Czech lemmatizer Majka\n",
    "morph = majka.Majka('../wordlists/majka.w-lt')\n",
    "morph.flags |= majka.ADD_DIACRITICS  # Find word forms with diacritics\n",
    "morph.flags |= majka.DISALLOW_LOWERCASE  # Do not enable to find lowercase variants\n",
    "morph.flags |= majka.IGNORE_CASE  # Ignore the word case whatsoever\n",
    "morph.flags = 0  # Unset all flags\n",
    "morph.tags = False  # Return just the lemma\n",
    "morph.first_only = True  # Return only the first entry\n",
    "\n",
    "# Histogram of unlemmatizable words\n",
    "unlemmatizable_tokens_histogram = {}\n",
    "# Treshold of occurrences of unlemmatizable tokens, below which the tokens won't be added to the result\n",
    "unlemmatizable_tokens_threshold = 2"
   ]
  },
  {
   "cell_type": "code",
   "execution_count": 3,
   "metadata": {},
   "outputs": [],
   "source": [
    "# Load file paths\n",
    "xml_file_path = '../data/test.xml' if DEBUG else '../data/cswiki-latest-pages-articles.xml'\n",
    "parsed_file_path = '../data/out-parsed.csv'\n",
    "tokenized_file_path = '../data/out-tokenized.csv'\n",
    "lemmatized_file_path = '../data/out-lemmatized.csv'"
   ]
  },
  {
   "cell_type": "code",
   "execution_count": 4,
   "metadata": {},
   "outputs": [],
   "source": [
    "# Remove files if exists (because we'll append to them)\n",
    "for filePath in [parsed_file_path,tokenized_file_path,lemmatized_file_path]:\n",
    "    if os.path.exists(filePath):\n",
    "        os.remove(filePath)"
   ]
  },
  {
   "cell_type": "code",
   "execution_count": 5,
   "metadata": {
    "pycharm": {
     "name": "#%%\n"
    }
   },
   "outputs": [],
   "source": [
    "# Parse input file line by line \n",
    "parse_xml_file(xml_file_path, parsed_file_path)"
   ]
  },
  {
   "cell_type": "code",
   "execution_count": 6,
   "metadata": {
    "pycharm": {
     "name": "#%%\n"
    }
   },
   "outputs": [],
   "source": [
    "def clear_data(dataframe):\n",
    "    for col in dataframe:\n",
    "        dataframe[col] = dataframe[col]\\\n",
    "        .apply(lambda x: x if x is not np.NaN else None) \\\n",
    "        .apply(replace_string_with_pattern,pattern=r\"[\\\\/:.,\\-_#()?“„ ]+|{.*}\",replace_with=' ') \\\n",
    "        .apply(replace_string_with_pattern,pattern=r\"&amp;\",replace_with='&') \\\n",
    "        .apply(decode_html_chars) \\\n",
    "        .apply(lambda x: str(x) if isinstance(x, int) or isinstance(x,float) else x) \\\n",
    "        .apply(clear_empty_string)\n",
    "\n",
    "    return dataframe"
   ]
  },
  {
   "cell_type": "code",
   "execution_count": 7,
   "metadata": {
    "pycharm": {
     "name": "#%%\n"
    }
   },
   "outputs": [],
   "source": [
    "def tokenize(dataframe):\n",
    "    for col in dataframe:\n",
    "        dataframe[col] = dataframe[col]\\\n",
    "            .apply(lambda data: nltk.tokenize.word_tokenize(data) if data is not None or not np.nan else [])\\\n",
    "            .apply(lambda tokens: [token.lower() for token in tokens if not token in stop_words])\n",
    "    return dataframe"
   ]
  },
  {
   "cell_type": "code",
   "execution_count": 8,
   "metadata": {
    "pycharm": {
     "name": "#%%\n"
    }
   },
   "outputs": [],
   "source": [
    "def add_unlemmatizable_words(dataframe,histogram):\n",
    "    for col in dataframe:\n",
    "        for row in dataframe[col]:\n",
    "            for word in row:\n",
    "                if not (morph.find(word)):\n",
    "                    if word in histogram:\n",
    "                        histogram[word] = histogram[word]+1 if histogram[word] < unlemmatizable_tokens_threshold else histogram[word]\n",
    "                    else:\n",
    "                        histogram[word] = 1"
   ]
  },
  {
   "cell_type": "code",
   "execution_count": 9,
   "metadata": {
    "pycharm": {
     "name": "#%%\n"
    }
   },
   "outputs": [],
   "source": [
    "def lemmatize(dataframe):\n",
    "    for col in dataframe:\n",
    "        # Lemmatize token (preserve unlemmatizable tokens according to threshold)\n",
    "        dataframe[col] = dataframe[col]\\\n",
    "            .apply(lambda tokens: [y for token in literal_eval(tokens) if (y := (morphed_token[0]['lemma'] if (morphed_token := morph.find(token)) else token if unlemmatizable_tokens_histogram[token] >= unlemmatizable_tokens_threshold else None)) is not None])\n",
    "    return dataframe"
   ]
  },
  {
   "cell_type": "code",
   "execution_count": 10,
   "metadata": {
    "pycharm": {
     "name": "#%%\n"
    }
   },
   "outputs": [],
   "source": [
    "# Tokenize parsed file chunk by chunk\n",
    "for chunk in pd.read_csv(parsed_file_path,sep=\",\",header=None,names=['0','1'],encoding='UTF-8',chunksize=50):\n",
    "    chunk = clear_data(chunk)\n",
    "    chunk = tokenize(chunk)\n",
    "    # Creates histogram of not lemmatizable tokens\n",
    "    add_unlemmatizable_words(chunk,unlemmatizable_tokens_histogram)\n",
    "    chunk.to_csv(tokenized_file_path, mode='a+', header=False, index=False,encoding='UTF-8')"
   ]
  },
  {
   "cell_type": "code",
   "execution_count": 11,
   "metadata": {
    "pycharm": {
     "name": "#%%\n"
    }
   },
   "outputs": [],
   "source": [
    "# Lemmatize Tokens chunk by chunk\n",
    "for chunk in pd.read_csv(tokenized_file_path,sep=\",\",header=None,names=['0','1'],encoding='UTF-8',chunksize=50):\n",
    "    chunk = lemmatize(chunk)\n",
    "    chunk.to_csv(lemmatized_file_path, mode='a+', header=False, index=False,encoding='UTF-8')"
   ]
  },
  {
   "cell_type": "code",
   "execution_count": 12,
   "metadata": {},
   "outputs": [],
   "source": [
    "total_counter = 0\n",
    "lemmatized_counter = 0\n",
    "\n",
    "def count_lemmas(lemmatized):\n",
    "    global lemmatized_counter, total_counter\n",
    "    for lemma in literal_eval(lemmatized):\n",
    "        total_counter+=1\n",
    "        if not lemma in unlemmatizable_tokens_histogram:\n",
    "            lemmatized_counter+=1\n",
    "\n",
    "# Read lemmatized words and count them\n",
    "data = pd.read_csv(lemmatized_file_path,sep=\",\",header=None,names=['0','1'],encoding='UTF-8')   \n",
    "for col in data:\n",
    "    data[col].apply(count_lemmas)"
   ]
  },
  {
   "cell_type": "code",
   "execution_count": 13,
   "metadata": {},
   "outputs": [],
   "source": [
    "# Otazky:\n",
    "# ratat originalne slova alebo vsetky? (pretiekla nam pamat pri udrziavani originalnov + counter v hashmape)\n",
    "# my zapisujeme do toho lemmatized suboru aj tie ktore su nad tresholdom, mame pri celkovom pocte nejako tieto odratat?"
   ]
  },
  {
   "cell_type": "code",
   "execution_count": 14,
   "metadata": {},
   "outputs": [
    {
     "name": "stdout",
     "output_type": "stream",
     "text": [
      "The number of lemmatized words in ../data/out-lemmatized.csv: 655\n"
     ]
    }
   ],
   "source": [
    "print(f\"The number of lemmatized words in {lemmatized_file_path}: {lemmatized_counter}\")"
   ]
  },
  {
   "cell_type": "code",
   "execution_count": 15,
   "metadata": {},
   "outputs": [],
   "source": [
    "# Otazky:\n",
    "# graf occurences (Y slov ma X occurences)\n",
    "df_histogram = pd.DataFrame({'lemma': list(unlemmatizable_tokens_histogram.keys()),'count':list(unlemmatizable_tokens_histogram.values())})"
   ]
  },
  {
   "cell_type": "code",
   "execution_count": 16,
   "metadata": {},
   "outputs": [
    {
     "data": {
      "text/plain": [
       "Text(0.5, 0, 'Number of lemma occurences')"
      ]
     },
     "execution_count": 16,
     "metadata": {},
     "output_type": "execute_result"
    },
    {
     "data": {
      "image/png": "[encoded data removed]",
      "text/plain": [
       "<Figure size 432x288 with 1 Axes>"
      ]
     },
     "metadata": {
      "needs_background": "light"
     },
     "output_type": "display_data"
    }
   ],
   "source": [
    "sns.histplot(df_histogram['count'])\n",
    "plt.xlabel('Number of lemma occurences')"
   ]
  },
  {
   "cell_type": "code",
   "execution_count": 17,
   "metadata": {},
   "outputs": [
    {
     "name": "stderr",
     "output_type": "stream",
     "text": [
      "/Users/feri/.local/share/virtualenvs/VINF-P9TXDHeq/lib/python3.8/site-packages/seaborn/_decorators.py:36: FutureWarning: Pass the following variable as a keyword arg: x. From version 0.12, the only valid positional argument will be `data`, and passing other arguments without an explicit keyword will result in an error or misinterpretation.\n",
      "  warnings.warn(\n"
     ]
    },
    {
     "data": {
      "text/plain": [
       "<AxesSubplot:xlabel='count'>"
      ]
     },
     "execution_count": 17,
     "metadata": {},
     "output_type": "execute_result"
    },
    {
     "data": {
      "image/png": "[encoded data removed]",
      "text/plain": [
       "<Figure size 432x288 with 1 Axes>"
      ]
     },
     "metadata": {
      "needs_background": "light"
     },
     "output_type": "display_data"
    }
   ],
   "source": [
    "sns.boxplot(df_histogram['count'])"
   ]
  },
  {
   "cell_type": "code",
   "execution_count": 18,
   "metadata": {},
   "outputs": [],
   "source": [
    "def use_quantiles(df, column):\n",
    "    new_df = df.copy(deep = True)\n",
    "    skew_val = stats.skew(new_df[column]) \n",
    "    \n",
    "    if ((skew_val < -2) or (skew_val > 2)):  \n",
    "        minimum = new_df[column].min()\n",
    "        minimum = minimum + (-minimum - minimum)\n",
    "        new_df[column] = np.log(new_df[column]+minimum)\n",
    "    \n",
    "    perc_95 = new_df[column].quantile(.95)   \n",
    "    perc_05 =  new_df[column].quantile(.05)\n",
    "    new_df.loc[new_df[column] < perc_05, column] = perc_05\n",
    "    new_df.loc[new_df[column] > perc_95, column] = perc_95\n",
    "    return new_df"
   ]
  },
  {
   "cell_type": "code",
   "execution_count": 19,
   "metadata": {},
   "outputs": [],
   "source": [
    "df_histogram = use_quantiles(df_histogram, 'count')"
   ]
  },
  {
   "cell_type": "code",
   "execution_count": 20,
   "metadata": {},
   "outputs": [
    {
     "data": {
      "text/plain": [
       "Text(0.5, 0, 'Number of lemma occurences')"
      ]
     },
     "execution_count": 20,
     "metadata": {},
     "output_type": "execute_result"
    },
    {
     "data": {
      "image/png": "[encoded data removed]",
      "text/plain": [
       "<Figure size 432x288 with 1 Axes>"
      ]
     },
     "metadata": {
      "needs_background": "light"
     },
     "output_type": "display_data"
    }
   ],
   "source": [
    "sns.histplot(df_histogram['count'])\n",
    "plt.xlabel('Number of lemma occurences')"
   ]
  },
  {
   "cell_type": "code",
   "execution_count": 21,
   "metadata": {},
   "outputs": [
    {
     "name": "stderr",
     "output_type": "stream",
     "text": [
      "/Users/feri/.local/share/virtualenvs/VINF-P9TXDHeq/lib/python3.8/site-packages/seaborn/_decorators.py:36: FutureWarning: Pass the following variable as a keyword arg: x. From version 0.12, the only valid positional argument will be `data`, and passing other arguments without an explicit keyword will result in an error or misinterpretation.\n",
      "  warnings.warn(\n"
     ]
    },
    {
     "data": {
      "text/plain": [
       "<AxesSubplot:xlabel='count'>"
      ]
     },
     "execution_count": 21,
     "metadata": {},
     "output_type": "execute_result"
    },
    {
     "data": {
      "image/png": "[encoded data removed]",
      "text/plain": [
       "<Figure size 432x288 with 1 Axes>"
      ]
     },
     "metadata": {
      "needs_background": "light"
     },
     "output_type": "display_data"
    }
   ],
   "source": [
    "sns.boxplot(df_histogram['count'])"
   ]
  }
 ],
 "metadata": {
  "kernelspec": {
   "display_name": "Python 3",
   "language": "python",
   "name": "python3"
  },
  "language_info": {
   "codemirror_mode": {
    "name": "ipython",
    "version": 3
   },
   "file_extension": ".py",
   "mimetype": "text/x-python",
   "name": "python",
   "nbconvert_exporter": "python",
   "pygments_lexer": "ipython3",
   "version": "3.8.6"
  }
 },
 "nbformat": 4,
 "nbformat_minor": 1
}
